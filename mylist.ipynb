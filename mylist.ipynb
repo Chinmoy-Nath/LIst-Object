{
 "cells": [
  {
   "cell_type": "code",
   "execution_count": 1,
   "metadata": {},
   "outputs": [],
   "source": [
    "import ctypes\n",
    "\n",
    "class MyList:\n",
    "    \n",
    "    def __init__(self):\n",
    "        self.size = 1\n",
    "        self.items = 0\n",
    "        self.arr = self.__create_array(self.size)\n",
    "        \n",
    "    def __create_array(self, capacity):\n",
    "        return (capacity * ctypes.py_object)()\n",
    "    \n",
    "    def __len__(self):\n",
    "        return self.items\n",
    "    \n",
    "    def append(self, value):\n",
    "        if self.items == self.size:\n",
    "            self.__resize_arrary(self.size * 2)\n",
    "        \n",
    "        self.arr[self.items] = value\n",
    "        self.items = self.items + 1\n",
    "        \n",
    "    def __resize_arrary(self, new_capacity):\n",
    "        b = self.__create_array(new_capacity)\n",
    "        self.size = new_capacity\n",
    "        \n",
    "        for i in range(self.items):\n",
    "            b[i] = self.arr[i]\n",
    "        \n",
    "        self.arr = b\n",
    "        \n",
    "    def __str__(self):\n",
    "        res = ''\n",
    "        for i in range(self.items):\n",
    "            res = res + str(self.arr[i]) + ','\n",
    "\n",
    "        return '[' + res[:-1] + ']'\n",
    "    \n",
    "    def __getitem__(self, index):\n",
    "        if isinstance(index, int):\n",
    "            if 0 <= index < self.items:\n",
    "                return self.arr[index]\n",
    "            elif index < 0:\n",
    "                if 0 < -(index) <= self.items:\n",
    "                    return self.arr[self.items - (-(index))]\n",
    "                else:\n",
    "                    return 'ValueError - index out of range'\n",
    "            else:\n",
    "                return 'ValueError - index out of range'\n",
    "        elif isinstance(index, slice):\n",
    "            start = index.start if index.start is not None else 0\n",
    "            stop = index.stop if index.stop is not None else self.items\n",
    "            step = index.step if index.step is not None else 1\n",
    "\n",
    "            return [self.arr[i] for i in range(start, stop, step)]\n",
    "        else:\n",
    "            return 'TypeError - invalid index type'\n",
    "\n",
    "    def pop(self):\n",
    "        if self.items == 0:\n",
    "            return 'empty list'\n",
    "        \n",
    "        print(self.arr[self.items -1])\n",
    "        self.items = self.items - 1\n",
    "        \n",
    "    def clear(self):\n",
    "        self.items = 0\n",
    "        self.size = 1\n",
    "        \n",
    "    def find(self, value):\n",
    "        for i in range(self.items):\n",
    "            if self.arr[i] == value:\n",
    "                return i\n",
    "        return 'ValueError'\n",
    "            \n",
    "    def insert(self, position, value):\n",
    "        if self.size == self.items:\n",
    "            self.__resize_arrary(self.size * 2)\n",
    "        \n",
    "        for i in range(self.items, position, -1):\n",
    "            self.arr[i] = self.arr[i-1]\n",
    "        self.arr[position] = value\n",
    "        self.items = self.items + 1\n",
    "        \n",
    "    def __delitem__(self, position):\n",
    "        if self.items == 0:\n",
    "            return 'ValueError - item not in list'\n",
    "        \n",
    "        for i in range(position, self.items - 1):\n",
    "            self.arr[i] = self.arr[i+1]\n",
    "            \n",
    "        self.items = self.items - 1\n",
    "        \n",
    "    def remove(self, value):\n",
    "        val = self.find(value)\n",
    "        if type(val) == int:\n",
    "            self.__delitem__(val)\n",
    "        else:\n",
    "            return val\n",
    "                \n",
    "    def count(self, value):\n",
    "        total = 0\n",
    "        for i in range(self.items):\n",
    "            if self.arr[i] == value:\n",
    "                total += 1\n",
    "                \n",
    "        return total\n",
    "    \n",
    "    def extend(self, lst):\n",
    "        size = len(lst)\n",
    "        i = 0\n",
    "        while i< size:\n",
    "            if self.size == self.items:\n",
    "                 self.__resize_arrary(self.size * 2)\n",
    "            self.arr[self.items] = lst[i]\n",
    "            self.items = self.items + 1\n",
    "            i = i+1\n",
    "            \n",
    "    def sort(self, reverse = False):\n",
    "        if reverse == True:\n",
    "            for i in range(self.items):\n",
    "                for j in range(self.items - i - 1):\n",
    "                    if self.arr[j+1] > self.arr[j]:\n",
    "                        self.arr[j], self.arr[j+1] = self.arr[j+1], self.arr[j]\n",
    "        else:\n",
    "            for i in range(self.items):\n",
    "                for j in range(self.items - i - 1):\n",
    "                    if self.arr[j] > self.arr[j+1]:\n",
    "                        self.arr[j+1], self.arr[j] = self.arr[j], self.arr[j+1]\n",
    "                        \n",
    "    def __add__(self, other):\n",
    "        new_arr = MyList()\n",
    "        new_arr.extend(self.arr)\n",
    "        new_arr.extend(other.arr)\n",
    "        return new_arr\n",
    "            \n",
    "    def min(self):\n",
    "        mini = self.arr[0]\n",
    "        for i in range(1, self.items):\n",
    "            if mini > self.arr[i]:\n",
    "                mini = self.arr[i]\n",
    "            \n",
    "        return mini\n",
    "        \n",
    "    def max(self):\n",
    "        maxi = self.arr[0]\n",
    "        for i in range(1, self.items):\n",
    "            if maxi < self.arr[i]:\n",
    "                maxi = self.arr[i]\n",
    "            \n",
    "        return maxi\n",
    "        \n",
    "    def sum(self):\n",
    "        total = 0\n",
    "        for i in range(self.items):\n",
    "            if type(self.arr[i]) == str:\n",
    "                return 'TypeError - int + str not possible'\n",
    "            else:\n",
    "                total = total + self.arr[i]\n",
    "                \n",
    "        return total\n",
    "    "
   ]
  },
  {
   "cell_type": "code",
   "execution_count": 2,
   "metadata": {},
   "outputs": [],
   "source": [
    "l = MyList()"
   ]
  },
  {
   "cell_type": "code",
   "execution_count": 3,
   "metadata": {},
   "outputs": [],
   "source": [
    "l.append(1)\n",
    "l.append(2)\n",
    "l.append(3)\n",
    "l.append(4)\n",
    "# l.append(1)\n",
    "# l.append(2)\n",
    "# l.append(3)\n",
    "# l.append(4)\n",
    "# l.append(1)\n",
    "# l.append(2)\n",
    "# l.append(3)\n",
    "# l.append(5)"
   ]
  },
  {
   "cell_type": "code",
   "execution_count": 128,
   "metadata": {},
   "outputs": [
    {
     "data": {
      "text/plain": [
       "4"
      ]
     },
     "execution_count": 128,
     "metadata": {},
     "output_type": "execute_result"
    }
   ],
   "source": [
    "len(l)"
   ]
  },
  {
   "cell_type": "code",
   "execution_count": 19,
   "metadata": {},
   "outputs": [
    {
     "name": "stdout",
     "output_type": "stream",
     "text": [
      "[1,2,3,4]\n"
     ]
    }
   ],
   "source": [
    "print(l)"
   ]
  },
  {
   "cell_type": "code",
   "execution_count": 123,
   "metadata": {},
   "outputs": [
    {
     "name": "stdout",
     "output_type": "stream",
     "text": [
      "1\n",
      "3\n",
      "ValueError - index out of range\n",
      "[1, 2, 3, 4]\n"
     ]
    }
   ],
   "source": [
    "print(l[0])\n",
    "print(l[-2])\n",
    "print(l[-20])\n",
    "print(l[:])"
   ]
  },
  {
   "cell_type": "code",
   "execution_count": 110,
   "metadata": {},
   "outputs": [
    {
     "name": "stdout",
     "output_type": "stream",
     "text": [
      "[1,2,3,4,1,2,3,4,1,2,3,5]\n",
      "5\n",
      "[1,2,3,4,1,2,3,4,1,2,3]\n"
     ]
    }
   ],
   "source": [
    "print(l)\n",
    "l.pop()\n",
    "print(l)"
   ]
  },
  {
   "cell_type": "code",
   "execution_count": 117,
   "metadata": {},
   "outputs": [
    {
     "data": {
      "text/plain": [
       "11"
      ]
     },
     "execution_count": 117,
     "metadata": {},
     "output_type": "execute_result"
    }
   ],
   "source": [
    "l.find(5)"
   ]
  },
  {
   "cell_type": "code",
   "execution_count": 129,
   "metadata": {},
   "outputs": [
    {
     "name": "stdout",
     "output_type": "stream",
     "text": [
      "[1,2,3,4,1,2,3,4,1,2,3,5]\n",
      "[1,2,3,10,4,1,2,3,4,1,2,3,5]\n"
     ]
    }
   ],
   "source": [
    "print(l)\n",
    "l.insert(3, 10)\n",
    "print(l)"
   ]
  },
  {
   "cell_type": "code",
   "execution_count": 138,
   "metadata": {},
   "outputs": [
    {
     "name": "stdout",
     "output_type": "stream",
     "text": [
      "[1,2,3,4,1,2,3,4,1,2,3,5]\n",
      "[2,3,4,1,2,3,4,1,2,3,5]\n"
     ]
    }
   ],
   "source": [
    "print(l)\n",
    "del l[0]\n",
    "print(l)"
   ]
  },
  {
   "cell_type": "code",
   "execution_count": 185,
   "metadata": {},
   "outputs": [
    {
     "name": "stdout",
     "output_type": "stream",
     "text": [
      "[1,2,3,4,1,2,3,4,1,2,3,1,2,3,4,1,2,3,4,1,2,3,5]\n"
     ]
    }
   ],
   "source": [
    "print(l)\n",
    "l.remove(1)"
   ]
  },
  {
   "cell_type": "code",
   "execution_count": 203,
   "metadata": {},
   "outputs": [
    {
     "data": {
      "text/plain": [
       "3"
      ]
     },
     "execution_count": 203,
     "metadata": {},
     "output_type": "execute_result"
    }
   ],
   "source": [
    "l.count(1)"
   ]
  },
  {
   "cell_type": "code",
   "execution_count": 4,
   "metadata": {},
   "outputs": [],
   "source": [
    "m = MyList()\n",
    "\n",
    "m.append(5456)\n",
    "m.append(6)\n",
    "m.append(7)\n",
    "m.append(8)"
   ]
  },
  {
   "cell_type": "code",
   "execution_count": 7,
   "metadata": {},
   "outputs": [
    {
     "name": "stdout",
     "output_type": "stream",
     "text": [
      "[1,2,3,4,5456,6,7,8]\n"
     ]
    }
   ],
   "source": [
    "l.extend(m)\n",
    "print(l)"
   ]
  },
  {
   "cell_type": "code",
   "execution_count": 72,
   "metadata": {},
   "outputs": [
    {
     "name": "stdout",
     "output_type": "stream",
     "text": [
      "[8,7,6,5,4,3,2,1]\n"
     ]
    }
   ],
   "source": [
    "l.sort(reverse=True)\n",
    "print(l)"
   ]
  },
  {
   "cell_type": "code",
   "execution_count": 81,
   "metadata": {},
   "outputs": [
    {
     "name": "stdout",
     "output_type": "stream",
     "text": [
      "[1,2,3,4,5456,6,7,8]\n"
     ]
    }
   ],
   "source": [
    "k = l+m\n",
    "print(l+m)"
   ]
  },
  {
   "cell_type": "code",
   "execution_count": 8,
   "metadata": {},
   "outputs": [
    {
     "name": "stdout",
     "output_type": "stream",
     "text": [
      "5456\n",
      "1\n",
      "5487\n"
     ]
    }
   ],
   "source": [
    "print(l.max())\n",
    "print(l.min())\n",
    "print(l.sum())"
   ]
  }
 ],
 "metadata": {
  "kernelspec": {
   "display_name": "Python 3",
   "language": "python",
   "name": "python3"
  },
  "language_info": {
   "codemirror_mode": {
    "name": "ipython",
    "version": 3
   },
   "file_extension": ".py",
   "mimetype": "text/x-python",
   "name": "python",
   "nbconvert_exporter": "python",
   "pygments_lexer": "ipython3",
   "version": "3.11.4"
  }
 },
 "nbformat": 4,
 "nbformat_minor": 2
}
